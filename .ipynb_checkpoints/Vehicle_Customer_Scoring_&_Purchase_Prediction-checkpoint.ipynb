{
 "cells": [
  {
   "cell_type": "markdown",
   "metadata": {},
   "source": [
    "#  Vehicle Customer Scoring & PurchasePrediction"
   ]
  },
  {
   "cell_type": "markdown",
   "metadata": {},
   "source": [
    "   \n",
    " ## Importing libraries\n"
   ]
  },
  {
   "cell_type": "code",
   "execution_count": 1,
   "metadata": {},
   "outputs": [],
   "source": [
    "# We import required packages for data processing\n",
    "import pandas as pd # => Read and generate databases\n",
    "import numpy as np # => Allows the processing of n-dimensional array\n",
    "import matplotlib.pyplot as plt # => Allows the creation of graphs in Python\n",
    "import os"
   ]
  },
  {
   "cell_type": "markdown",
   "metadata": {},
   "source": [
    "# 1 - Data loading"
   ]
  },
  {
   "cell_type": "markdown",
   "metadata": {},
   "source": [
    "We have 2 sets of data : \n",
    "<ul><li>A database of ownerships (one line per acquired car) until the end of 2018. \n",
    "    <li>A base of purchases over 2019</li> \n",
    "</ul>"
   ]
  },
  {
   "cell_type": "code",
   "execution_count": 2,
   "metadata": {
    "scrolled": true
   },
   "outputs": [
    {
     "name": "stderr",
     "output_type": "stream",
     "text": [
      "C:\\Users\\PC\\Anaconda3\\lib\\site-packages\\numpy\\lib\\arraysetops.py:580: FutureWarning: elementwise comparison failed; returning scalar instead, but in the future will perform elementwise comparison\n",
      "  mask |= (ar1 == a)\n"
     ]
    }
   ],
   "source": [
    "#import ownership database in csv\n",
    "df_ownership = pd.read_csv('data\\data_until_2018.csv', index_col = 0)"
   ]
  },
  {
   "cell_type": "markdown",
   "metadata": {},
   "source": [
    "# 2 - Data Visualization"
   ]
  },
  {
   "cell_type": "code",
   "execution_count": 3,
   "metadata": {
    "scrolled": true
   },
   "outputs": [
    {
     "data": {
      "text/html": [
       "<div>\n",
       "<style scoped>\n",
       "    .dataframe tbody tr th:only-of-type {\n",
       "        vertical-align: middle;\n",
       "    }\n",
       "\n",
       "    .dataframe tbody tr th {\n",
       "        vertical-align: top;\n",
       "    }\n",
       "\n",
       "    .dataframe thead th {\n",
       "        text-align: right;\n",
       "    }\n",
       "</style>\n",
       "<table border=\"1\" class=\"dataframe\">\n",
       "  <thead>\n",
       "    <tr style=\"text-align: right;\">\n",
       "      <th></th>\n",
       "      <th>ownership_id</th>\n",
       "      <th>client_id</th>\n",
       "      <th>client_birth_date</th>\n",
       "      <th>client_gender</th>\n",
       "      <th>bornes_count</th>\n",
       "      <th>vehicle_fuel_type</th>\n",
       "      <th>vehicle_new_used</th>\n",
       "      <th>vehicle_price</th>\n",
       "      <th>ownership_start_date</th>\n",
       "      <th>ownership_lapsed_date</th>\n",
       "      <th>vehicle_age</th>\n",
       "      <th>vehicle_mileage</th>\n",
       "      <th>driven_mileage</th>\n",
       "      <th>mean_transaction_invoice</th>\n",
       "      <th>vehicle_model</th>\n",
       "    </tr>\n",
       "  </thead>\n",
       "  <tbody>\n",
       "    <tr>\n",
       "      <th>0</th>\n",
       "      <td>1001</td>\n",
       "      <td>1001</td>\n",
       "      <td>1959-07-15 00:00:00</td>\n",
       "      <td>M</td>\n",
       "      <td>1.0</td>\n",
       "      <td>diesel</td>\n",
       "      <td>new</td>\n",
       "      <td>21750.22</td>\n",
       "      <td>2014-12-17 14:41:25</td>\n",
       "      <td>2017-03-28 13:25:06</td>\n",
       "      <td>27.0</td>\n",
       "      <td>26375.953678</td>\n",
       "      <td>26555.835812</td>\n",
       "      <td>120.1500</td>\n",
       "      <td>Model 3</td>\n",
       "    </tr>\n",
       "    <tr>\n",
       "      <th>1</th>\n",
       "      <td>1002</td>\n",
       "      <td>1001</td>\n",
       "      <td>1959-07-15 00:00:00</td>\n",
       "      <td>M</td>\n",
       "      <td>1.0</td>\n",
       "      <td>diesel</td>\n",
       "      <td>new</td>\n",
       "      <td>21499.38</td>\n",
       "      <td>2011-01-31 00:00:00</td>\n",
       "      <td>NaN</td>\n",
       "      <td>95.0</td>\n",
       "      <td>118614.474233</td>\n",
       "      <td>118614.474233</td>\n",
       "      <td>246.8925</td>\n",
       "      <td>Model 3</td>\n",
       "    </tr>\n",
       "    <tr>\n",
       "      <th>2</th>\n",
       "      <td>1003</td>\n",
       "      <td>1001</td>\n",
       "      <td>1959-07-15 00:00:00</td>\n",
       "      <td>M</td>\n",
       "      <td>1.0</td>\n",
       "      <td>diesel</td>\n",
       "      <td>NaN</td>\n",
       "      <td>21750.22</td>\n",
       "      <td>2017-02-07 00:00:00</td>\n",
       "      <td>2019-09-10 09:57:10</td>\n",
       "      <td>31.0</td>\n",
       "      <td>NaN</td>\n",
       "      <td>NaN</td>\n",
       "      <td>24.0000</td>\n",
       "      <td>Model 3</td>\n",
       "    </tr>\n",
       "    <tr>\n",
       "      <th>4</th>\n",
       "      <td>1005</td>\n",
       "      <td>1003</td>\n",
       "      <td>NaN</td>\n",
       "      <td>F</td>\n",
       "      <td>1.0</td>\n",
       "      <td>diesel</td>\n",
       "      <td>new</td>\n",
       "      <td>30577.61</td>\n",
       "      <td>2015-10-09 00:00:00</td>\n",
       "      <td>NaN</td>\n",
       "      <td>38.0</td>\n",
       "      <td>79934.320487</td>\n",
       "      <td>79934.320487</td>\n",
       "      <td>303.7700</td>\n",
       "      <td>Model 5</td>\n",
       "    </tr>\n",
       "    <tr>\n",
       "      <th>5</th>\n",
       "      <td>1006</td>\n",
       "      <td>1003</td>\n",
       "      <td>NaN</td>\n",
       "      <td>F</td>\n",
       "      <td>1.0</td>\n",
       "      <td>diesel</td>\n",
       "      <td>new</td>\n",
       "      <td>28439.18</td>\n",
       "      <td>2017-02-20 00:00:00</td>\n",
       "      <td>NaN</td>\n",
       "      <td>22.0</td>\n",
       "      <td>42736.385081</td>\n",
       "      <td>42736.385081</td>\n",
       "      <td>772.8800</td>\n",
       "      <td>Model 5</td>\n",
       "    </tr>\n",
       "  </tbody>\n",
       "</table>\n",
       "</div>"
      ],
      "text/plain": [
       "   ownership_id  client_id    client_birth_date client_gender  bornes_count  \\\n",
       "0          1001       1001  1959-07-15 00:00:00             M           1.0   \n",
       "1          1002       1001  1959-07-15 00:00:00             M           1.0   \n",
       "2          1003       1001  1959-07-15 00:00:00             M           1.0   \n",
       "4          1005       1003                  NaN             F           1.0   \n",
       "5          1006       1003                  NaN             F           1.0   \n",
       "\n",
       "  vehicle_fuel_type vehicle_new_used  vehicle_price ownership_start_date  \\\n",
       "0            diesel              new       21750.22  2014-12-17 14:41:25   \n",
       "1            diesel              new       21499.38  2011-01-31 00:00:00   \n",
       "2            diesel              NaN       21750.22  2017-02-07 00:00:00   \n",
       "4            diesel              new       30577.61  2015-10-09 00:00:00   \n",
       "5            diesel              new       28439.18  2017-02-20 00:00:00   \n",
       "\n",
       "  ownership_lapsed_date  vehicle_age  vehicle_mileage  driven_mileage  \\\n",
       "0   2017-03-28 13:25:06         27.0     26375.953678    26555.835812   \n",
       "1                   NaN         95.0    118614.474233   118614.474233   \n",
       "2   2019-09-10 09:57:10         31.0              NaN             NaN   \n",
       "4                   NaN         38.0     79934.320487    79934.320487   \n",
       "5                   NaN         22.0     42736.385081    42736.385081   \n",
       "\n",
       "   mean_transaction_invoice vehicle_model  \n",
       "0                  120.1500       Model 3  \n",
       "1                  246.8925       Model 3  \n",
       "2                   24.0000       Model 3  \n",
       "4                  303.7700       Model 5  \n",
       "5                  772.8800       Model 5  "
      ]
     },
     "execution_count": 3,
     "metadata": {},
     "output_type": "execute_result"
    }
   ],
   "source": [
    "#display first lines of a dataframe (default: 5 rows)\n",
    "df_ownership.head()"
   ]
  },
  {
   "cell_type": "code",
   "execution_count": 4,
   "metadata": {},
   "outputs": [
    {
     "data": {
      "text/plain": [
       "(1418363, 15)"
      ]
     },
     "execution_count": 4,
     "metadata": {},
     "output_type": "execute_result"
    }
   ],
   "source": [
    "#display number of rows and columns\n",
    "df_ownership.shape"
   ]
  },
  {
   "cell_type": "code",
   "execution_count": 5,
   "metadata": {},
   "outputs": [
    {
     "data": {
      "text/plain": [
       "array(['diesel', 'electric', nan, 'petrol', 'gaz', 'hybrid'], dtype=object)"
      ]
     },
     "execution_count": 5,
     "metadata": {},
     "output_type": "execute_result"
    }
   ],
   "source": [
    "#list of unique modalities of a column\n",
    "df_ownership['vehicle_fuel_type'].unique()"
   ]
  },
  {
   "cell_type": "markdown",
   "metadata": {},
   "source": [
    "List of available data:\n",
    "ownership_id  --> ID corresponding to a car</li>\n",
    "<ul><li><b>client_id</b> -–> ID corresponding to a specific client in our databases</li>\n",
    "<li><b>client_birth_date</b> --> date of birh</li>\n",
    "<li><b>client_gender</b> --> inidcates whether the client is a male or female</li>\n",
    "<li><b>bornes_count</b> --> number of electric terminals in the neighbourhood</li>\n",
    "<li><b>vehicle_fuel_type</b> --> fuel type of the vehicle: diesel, petrol, electric, hybrid, gaz</li>\n",
    "<li><b>vehicle_new_used</b>  --> indicates whether the vehicle has been bought new or second-hand</li>\n",
    "<li><b>vehicle_price</b> --> price of the vehicle</li>\n",
    "<li><b>ownership_start_date</b> --> when client bought the vehicle</li>\n",
    "<li><b>ownership_lapsed_date</b> --> when the client released the vehicle (sold, scrapped, ...)</li>\n",
    "<li><b>vehicle_age</b> --> age of the vehicle</li>\n",
    "<li><b>vehicle_mileage</b> --> mileage of the vehicle</li>\n",
    "<li><b>driven_mileage</b> --> mileage by the current owner</li>\n",
    "<li><b>mean_transaction_invoice</b> --> average garage bills</li>\n",
    "<li><b>vehicle_model</b> --> model of the vehicle</li>\n",
    "</ul>"
   ]
  },
  {
   "cell_type": "code",
   "execution_count": 6,
   "metadata": {
    "scrolled": true
   },
   "outputs": [
    {
     "name": "stdout",
     "output_type": "stream",
     "text": [
      "<class 'pandas.core.frame.DataFrame'>\n",
      "Int64Index: 1418363 entries, 0 to 1624511\n",
      "Data columns (total 15 columns):\n",
      " #   Column                    Non-Null Count    Dtype  \n",
      "---  ------                    --------------    -----  \n",
      " 0   ownership_id              1418363 non-null  int64  \n",
      " 1   client_id                 1418363 non-null  int64  \n",
      " 2   client_birth_date         390702 non-null   object \n",
      " 3   client_gender             1388583 non-null  object \n",
      " 4   bornes_count              1188528 non-null  float64\n",
      " 5   vehicle_fuel_type         1392027 non-null  object \n",
      " 6   vehicle_new_used          1410595 non-null  object \n",
      " 7   vehicle_price             1338441 non-null  float64\n",
      " 8   ownership_start_date      1418363 non-null  object \n",
      " 9   ownership_lapsed_date     544107 non-null   object \n",
      " 10  vehicle_age               1418363 non-null  float64\n",
      " 11  vehicle_mileage           252793 non-null   float64\n",
      " 12  driven_mileage            252793 non-null   float64\n",
      " 13  mean_transaction_invoice  383143 non-null   float64\n",
      " 14  vehicle_model             1418363 non-null  object \n",
      "dtypes: float64(6), int64(2), object(7)\n",
      "memory usage: 173.1+ MB\n"
     ]
    }
   ],
   "source": [
    "#give some info on every columns: Name, Non-null count, Dtype\n",
    "df_ownership.info()"
   ]
  },
  {
   "cell_type": "code",
   "execution_count": 7,
   "metadata": {},
   "outputs": [
    {
     "data": {
      "text/html": [
       "<div>\n",
       "<style scoped>\n",
       "    .dataframe tbody tr th:only-of-type {\n",
       "        vertical-align: middle;\n",
       "    }\n",
       "\n",
       "    .dataframe tbody tr th {\n",
       "        vertical-align: top;\n",
       "    }\n",
       "\n",
       "    .dataframe thead th {\n",
       "        text-align: right;\n",
       "    }\n",
       "</style>\n",
       "<table border=\"1\" class=\"dataframe\">\n",
       "  <thead>\n",
       "    <tr style=\"text-align: right;\">\n",
       "      <th></th>\n",
       "      <th>ownership_id</th>\n",
       "      <th>client_id</th>\n",
       "      <th>bornes_count</th>\n",
       "      <th>vehicle_price</th>\n",
       "      <th>vehicle_age</th>\n",
       "      <th>vehicle_mileage</th>\n",
       "      <th>driven_mileage</th>\n",
       "      <th>mean_transaction_invoice</th>\n",
       "    </tr>\n",
       "  </thead>\n",
       "  <tbody>\n",
       "    <tr>\n",
       "      <th>count</th>\n",
       "      <td>1.418363e+06</td>\n",
       "      <td>1.418363e+06</td>\n",
       "      <td>1.188528e+06</td>\n",
       "      <td>1.338441e+06</td>\n",
       "      <td>1.418363e+06</td>\n",
       "      <td>252793.000000</td>\n",
       "      <td>2.527930e+05</td>\n",
       "      <td>3.831430e+05</td>\n",
       "    </tr>\n",
       "    <tr>\n",
       "      <th>mean</th>\n",
       "      <td>8.131717e+05</td>\n",
       "      <td>8.131113e+05</td>\n",
       "      <td>2.376992e+01</td>\n",
       "      <td>1.869082e+04</td>\n",
       "      <td>1.370242e+02</td>\n",
       "      <td>141210.829621</td>\n",
       "      <td>1.428780e+05</td>\n",
       "      <td>3.536486e+02</td>\n",
       "    </tr>\n",
       "    <tr>\n",
       "      <th>std</th>\n",
       "      <td>4.676984e+05</td>\n",
       "      <td>4.677177e+05</td>\n",
       "      <td>4.606241e+01</td>\n",
       "      <td>7.632225e+03</td>\n",
       "      <td>8.765977e+01</td>\n",
       "      <td>85522.291751</td>\n",
       "      <td>8.821501e+04</td>\n",
       "      <td>6.143437e+03</td>\n",
       "    </tr>\n",
       "    <tr>\n",
       "      <th>min</th>\n",
       "      <td>1.001000e+03</td>\n",
       "      <td>1.001000e+03</td>\n",
       "      <td>0.000000e+00</td>\n",
       "      <td>0.000000e+00</td>\n",
       "      <td>0.000000e+00</td>\n",
       "      <td>616.363636</td>\n",
       "      <td>6.174545e+02</td>\n",
       "      <td>-9.374520e+03</td>\n",
       "    </tr>\n",
       "    <tr>\n",
       "      <th>25%</th>\n",
       "      <td>4.083915e+05</td>\n",
       "      <td>4.083105e+05</td>\n",
       "      <td>2.000000e+00</td>\n",
       "      <td>1.168333e+04</td>\n",
       "      <td>6.500000e+01</td>\n",
       "      <td>78511.481510</td>\n",
       "      <td>7.910853e+04</td>\n",
       "      <td>1.246375e+02</td>\n",
       "    </tr>\n",
       "    <tr>\n",
       "      <th>50%</th>\n",
       "      <td>8.134300e+05</td>\n",
       "      <td>8.132510e+05</td>\n",
       "      <td>6.000000e+00</td>\n",
       "      <td>1.858036e+04</td>\n",
       "      <td>1.170000e+02</td>\n",
       "      <td>124985.495327</td>\n",
       "      <td>1.260128e+05</td>\n",
       "      <td>2.201433e+02</td>\n",
       "    </tr>\n",
       "    <tr>\n",
       "      <th>75%</th>\n",
       "      <td>1.216876e+06</td>\n",
       "      <td>1.216834e+06</td>\n",
       "      <td>1.500000e+01</td>\n",
       "      <td>2.405928e+04</td>\n",
       "      <td>1.940000e+02</td>\n",
       "      <td>185935.602207</td>\n",
       "      <td>1.876588e+05</td>\n",
       "      <td>3.653650e+02</td>\n",
       "    </tr>\n",
       "    <tr>\n",
       "      <th>max</th>\n",
       "      <td>1.625512e+06</td>\n",
       "      <td>1.625512e+06</td>\n",
       "      <td>2.000000e+02</td>\n",
       "      <td>1.241359e+05</td>\n",
       "      <td>3.590000e+02</td>\n",
       "      <td>943697.876425</td>\n",
       "      <td>1.465659e+06</td>\n",
       "      <td>3.584100e+06</td>\n",
       "    </tr>\n",
       "  </tbody>\n",
       "</table>\n",
       "</div>"
      ],
      "text/plain": [
       "       ownership_id     client_id  bornes_count  vehicle_price   vehicle_age  \\\n",
       "count  1.418363e+06  1.418363e+06  1.188528e+06   1.338441e+06  1.418363e+06   \n",
       "mean   8.131717e+05  8.131113e+05  2.376992e+01   1.869082e+04  1.370242e+02   \n",
       "std    4.676984e+05  4.677177e+05  4.606241e+01   7.632225e+03  8.765977e+01   \n",
       "min    1.001000e+03  1.001000e+03  0.000000e+00   0.000000e+00  0.000000e+00   \n",
       "25%    4.083915e+05  4.083105e+05  2.000000e+00   1.168333e+04  6.500000e+01   \n",
       "50%    8.134300e+05  8.132510e+05  6.000000e+00   1.858036e+04  1.170000e+02   \n",
       "75%    1.216876e+06  1.216834e+06  1.500000e+01   2.405928e+04  1.940000e+02   \n",
       "max    1.625512e+06  1.625512e+06  2.000000e+02   1.241359e+05  3.590000e+02   \n",
       "\n",
       "       vehicle_mileage  driven_mileage  mean_transaction_invoice  \n",
       "count    252793.000000    2.527930e+05              3.831430e+05  \n",
       "mean     141210.829621    1.428780e+05              3.536486e+02  \n",
       "std       85522.291751    8.821501e+04              6.143437e+03  \n",
       "min         616.363636    6.174545e+02             -9.374520e+03  \n",
       "25%       78511.481510    7.910853e+04              1.246375e+02  \n",
       "50%      124985.495327    1.260128e+05              2.201433e+02  \n",
       "75%      185935.602207    1.876588e+05              3.653650e+02  \n",
       "max      943697.876425    1.465659e+06              3.584100e+06  "
      ]
     },
     "execution_count": 7,
     "metadata": {},
     "output_type": "execute_result"
    }
   ],
   "source": [
    "#create a list of all columns names with numerical features\n",
    "numeric_features = ['bornes_count', 'vehicle_price', 'vehicle_age', 'vehicle_mileage', 'driven_mileage']\n",
    "\n",
    "#return statistics for each columns\n",
    "df_ownership.describe()"
   ]
  },
  {
   "cell_type": "markdown",
   "metadata": {},
   "source": [
    "To visualize our database we can plot our data on graphs.\n",
    "\n",
    "Let's see for example the breakdown of vehicles by model, fuel type, sex and new/used."
   ]
  },
  {
   "cell_type": "code",
   "execution_count": 8,
   "metadata": {
    "scrolled": true
   },
   "outputs": [
    {
     "data": {
      "image/png": "[encoded data removed]",
      "text/plain": [
       "<Figure size 648x432 with 1 Axes>"
      ]
     },
     "metadata": {
      "needs_background": "light"
     },
     "output_type": "display_data"
    },
    {
     "data": {
      "image/png": "[encoded data removed]",
      "text/plain": [
       "<Figure size 648x432 with 1 Axes>"
      ]
     },
     "metadata": {
      "needs_background": "light"
     },
     "output_type": "display_data"
    },
    {
     "data": {
      "image/png": "[encoded data removed]",
      "text/plain": [
       "<Figure size 648x432 with 1 Axes>"
      ]
     },
     "metadata": {
      "needs_background": "light"
     },
     "output_type": "display_data"
    },
    {
     "data": {
      "image/png": "[encoded data removed]",
      "text/plain": [
       "<Figure size 648x432 with 1 Axes>"
      ]
     },
     "metadata": {
      "needs_background": "light"
     },
     "output_type": "display_data"
    }
   ],
   "source": [
    "import matplotlib.pyplot as plt\n",
    "import seaborn as sns\n",
    "categorical_features = ['vehicle_model','vehicle_fuel_type','client_gender','vehicle_new_used']\n",
    "\n",
    "for col in categorical_features:\n",
    "    counts = df_ownership[col].value_counts().sort_index()\n",
    "    fig = plt.figure(figsize=(9, 6))\n",
    "    ax = fig.gca()\n",
    "    counts.plot.bar(ax = ax, color='steelblue')\n",
    "    ax.set_title(col + ' counts')\n",
    "    ax.set_xlabel(col) \n",
    "    ax.set_ylabel(\"Frequency\")\n",
    "plt.show()"
   ]
  },
  {
   "cell_type": "markdown",
   "metadata": {},
   "source": [
    "We can also plot more complex graphs.\n",
    "\n",
    "Below the distribution of vehicle age (in months) and vehicle mileage."
   ]
  },
  {
   "cell_type": "code",
   "execution_count": 9,
   "metadata": {},
   "outputs": [
    {
     "name": "stderr",
     "output_type": "stream",
     "text": [
      "C:\\Users\\PC\\Anaconda3\\lib\\site-packages\\seaborn\\distributions.py:2551: FutureWarning: `distplot` is a deprecated function and will be removed in a future version. Please adapt your code to use either `displot` (a figure-level function with similar flexibility) or `histplot` (an axes-level function for histograms).\n",
      "  warnings.warn(msg, FutureWarning)\n",
      "C:\\Users\\PC\\Anaconda3\\lib\\site-packages\\seaborn\\distributions.py:2551: FutureWarning: `distplot` is a deprecated function and will be removed in a future version. Please adapt your code to use either `displot` (a figure-level function with similar flexibility) or `histplot` (an axes-level function for histograms).\n",
      "  warnings.warn(msg, FutureWarning)\n"
     ]
    },
    {
     "data": {
      "image/png": "[encoded data removed]",
      "text/plain": [
       "<Figure size 1296x288 with 2 Axes>"
      ]
     },
     "metadata": {
      "needs_background": "light"
     },
     "output_type": "display_data"
    }
   ],
   "source": [
    "fig, ax = plt.subplots(1, 2, figsize=(18,4))\n",
    "\n",
    "age_val = df_ownership['vehicle_age'].values\n",
    "mileage_val = df_ownership.loc[ df_ownership.vehicle_mileage.notna() ,'vehicle_mileage'].values\n",
    "\n",
    "sns.distplot(age_val, ax=ax[0], color='r')\n",
    "ax[0].set_title('Distribution of vehicule age', fontsize=14)\n",
    "ax[0].set_xlim([min(age_val), max(age_val)])\n",
    "\n",
    "sns.distplot(mileage_val, ax=ax[1], color='b')\n",
    "ax[1].set_title('Distribution of vehicule mileage', fontsize=14)\n",
    "ax[1].set_xlim([min(mileage_val), max(mileage_val)])\n",
    "\n",
    "\n",
    "\n",
    "plt.show()"
   ]
  },
  {
   "cell_type": "markdown",
   "metadata": {},
   "source": [
    "And here the distribution of the number of electric terminals in the neighbourhood"
   ]
  },
  {
   "cell_type": "code",
   "execution_count": 10,
   "metadata": {
    "scrolled": true
   },
   "outputs": [
    {
     "name": "stderr",
     "output_type": "stream",
     "text": [
      "C:\\Users\\PC\\Anaconda3\\lib\\site-packages\\seaborn\\distributions.py:2551: FutureWarning: `distplot` is a deprecated function and will be removed in a future version. Please adapt your code to use either `displot` (a figure-level function with similar flexibility) or `histplot` (an axes-level function for histograms).\n",
      "  warnings.warn(msg, FutureWarning)\n"
     ]
    },
    {
     "data": {
      "image/png": "[encoded data removed]",
      "text/plain": [
       "<Figure size 1296x288 with 1 Axes>"
      ]
     },
     "metadata": {
      "needs_background": "light"
     },
     "output_type": "display_data"
    }
   ],
   "source": [
    "fig, ax = plt.subplots(1, 1, figsize=(18,4))\n",
    "\n",
    "borne_val = df_ownership.loc[ df_ownership.bornes_count.notna() ,'bornes_count'].values\n",
    "\n",
    "sns.distplot(borne_val, ax=ax, color='r')\n",
    "ax.set_title('Distribution of bornes', fontsize=14)\n",
    "ax.set_xlim([min(borne_val), max(borne_val)])\n",
    "\n",
    "plt.show()"
   ]
  },
  {
   "cell_type": "markdown",
   "metadata": {},
   "source": [
    "Variables available in your dataset are not always enough, and you do not have to stick to them. As consultant data scientist it is also a part of your job to think about your variables, and to try to create new relevant variables from those raw variables. Of course you have to create new variables only if they make sense from a business perspective.\n",
    "\n",
    "<b>In your opinion, what variables could be interesting to have if you want to predict if an individual will buy a new car in the next 12 months ?</b>"
   ]
  },
  {
   "cell_type": "markdown",
   "metadata": {},
   "source": [
    "<b>Reminder: list of our raw data</b>\n",
    "<br>client_id -–> ID corresponding to a specific client in our databases</br>\n",
    "<br>client_birth_date --> date of birh</br>\n",
    "<br>client_gender --> inidcates whether the client is a male or female</br>\n",
    "<br>bornes_count --> number of electric terminals in the neighbourhood</br>\n",
    "<br>vehicle_fuel_type --> fuel type of the vehicle: diesel, petrol, electric, hybrid, gaz</br>\n",
    "<br>vehicle_new_used --> indicates whether the vehicle has been bought new or second-hand</br>\n",
    "<br>vehicle_price --> price of the vehicle</br>\n",
    "<br>ownership_start_date --> when client bought the vehicle</br>\n",
    "<br>ownership_lapsed_date --> when the client released the vehicle (sold, scrapped, ...)</br>\n",
    "<br>vehicle_age --> age of the vehicle</br>\n",
    "<br>vehicle_mileage --> mileage of the vehicle</br>\n",
    "<br>driven_mileage --> mileage by the current owner</br>\n",
    "<br>mean_transaction_invoice --> average garage bills</br>\n",
    "<br>vehicle_model --> model of the vehicle</br>"
   ]
  },
  {
   "cell_type": "markdown",
   "metadata": {},
   "source": [
    "#### Lenght of ownership calculation"
   ]
  },
  {
   "cell_type": "markdown",
   "metadata": {},
   "source": [
    "Before to create the variable let's check the data"
   ]
  },
  {
   "cell_type": "code",
   "execution_count": 11,
   "metadata": {
    "scrolled": true
   },
   "outputs": [
    {
     "name": "stdout",
     "output_type": "stream",
     "text": [
      "<class 'pandas.core.frame.DataFrame'>\n",
      "Int64Index: 1418363 entries, 0 to 1624511\n",
      "Data columns (total 2 columns):\n",
      " #   Column                 Non-Null Count    Dtype \n",
      "---  ------                 --------------    ----- \n",
      " 0   ownership_lapsed_date  544107 non-null   object\n",
      " 1   ownership_start_date   1418363 non-null  object\n",
      "dtypes: object(2)\n",
      "memory usage: 32.5+ MB\n"
     ]
    }
   ],
   "source": [
    "df_ownership[['ownership_lapsed_date', 'ownership_start_date']].info()"
   ]
  },
  {
   "cell_type": "markdown",
   "metadata": {},
   "source": [
    "We see that there is not a lapsed date in every row.\n",
    "\n",
    "What does it mean ?"
   ]
  },
  {
   "cell_type": "code",
   "execution_count": 12,
   "metadata": {},
   "outputs": [],
   "source": [
    "#create a new variable to identify current owners\n",
    "df_ownership['current_ownership'] = (df_ownership['ownership_start_date'].notnull()) & (df_ownership['ownership_lapsed_date'].isnull())"
   ]
  },
  {
   "cell_type": "code",
   "execution_count": 13,
   "metadata": {},
   "outputs": [],
   "source": [
    "#calculate the lenght of the last ownership in days\n",
    "df_ownership['length_of_previous_ownership'] = (pd.to_datetime(df_ownership.ownership_lapsed_date) - pd.to_datetime( df_ownership.ownership_start_date)).dt.days"
   ]
  },
  {
   "cell_type": "code",
   "execution_count": 14,
   "metadata": {},
   "outputs": [],
   "source": [
    "#Calculate the lenght of the current ownership in days\n",
    "from datetime import date\n",
    "df_ownership['ownership_current_date'] = df_ownership.ownership_lapsed_date.fillna(date.today())\n",
    "df_ownership.loc[df_ownership['ownership_current_date']!= date.today(), 'ownership_current_date'] = np.nan\n",
    "df_ownership['length_of_current_ownership'] = (pd.to_datetime(df_ownership.ownership_current_date) - pd.to_datetime( df_ownership.ownership_start_date)).dt.days"
   ]
  },
  {
   "cell_type": "code",
   "execution_count": 15,
   "metadata": {},
   "outputs": [
    {
     "data": {
      "text/html": [
       "<div>\n",
       "<style scoped>\n",
       "    .dataframe tbody tr th:only-of-type {\n",
       "        vertical-align: middle;\n",
       "    }\n",
       "\n",
       "    .dataframe tbody tr th {\n",
       "        vertical-align: top;\n",
       "    }\n",
       "\n",
       "    .dataframe thead th {\n",
       "        text-align: right;\n",
       "    }\n",
       "</style>\n",
       "<table border=\"1\" class=\"dataframe\">\n",
       "  <thead>\n",
       "    <tr style=\"text-align: right;\">\n",
       "      <th></th>\n",
       "      <th>ownership_id</th>\n",
       "      <th>client_id</th>\n",
       "      <th>client_birth_date</th>\n",
       "      <th>client_gender</th>\n",
       "      <th>bornes_count</th>\n",
       "      <th>vehicle_fuel_type</th>\n",
       "      <th>vehicle_new_used</th>\n",
       "      <th>vehicle_price</th>\n",
       "      <th>ownership_start_date</th>\n",
       "      <th>ownership_lapsed_date</th>\n",
       "      <th>vehicle_age</th>\n",
       "      <th>vehicle_mileage</th>\n",
       "      <th>driven_mileage</th>\n",
       "      <th>mean_transaction_invoice</th>\n",
       "      <th>vehicle_model</th>\n",
       "      <th>current_ownership</th>\n",
       "      <th>length_of_previous_ownership</th>\n",
       "      <th>ownership_current_date</th>\n",
       "      <th>length_of_current_ownership</th>\n",
       "    </tr>\n",
       "  </thead>\n",
       "  <tbody>\n",
       "    <tr>\n",
       "      <th>0</th>\n",
       "      <td>1001</td>\n",
       "      <td>1001</td>\n",
       "      <td>1959-07-15 00:00:00</td>\n",
       "      <td>M</td>\n",
       "      <td>1.0</td>\n",
       "      <td>diesel</td>\n",
       "      <td>new</td>\n",
       "      <td>21750.22</td>\n",
       "      <td>2014-12-17 14:41:25</td>\n",
       "      <td>2017-03-28 13:25:06</td>\n",
       "      <td>27.0</td>\n",
       "      <td>26375.953678</td>\n",
       "      <td>26555.835812</td>\n",
       "      <td>120.1500</td>\n",
       "      <td>Model 3</td>\n",
       "      <td>False</td>\n",
       "      <td>831.0</td>\n",
       "      <td>NaN</td>\n",
       "      <td>NaN</td>\n",
       "    </tr>\n",
       "    <tr>\n",
       "      <th>1</th>\n",
       "      <td>1002</td>\n",
       "      <td>1001</td>\n",
       "      <td>1959-07-15 00:00:00</td>\n",
       "      <td>M</td>\n",
       "      <td>1.0</td>\n",
       "      <td>diesel</td>\n",
       "      <td>new</td>\n",
       "      <td>21499.38</td>\n",
       "      <td>2011-01-31 00:00:00</td>\n",
       "      <td>NaN</td>\n",
       "      <td>95.0</td>\n",
       "      <td>118614.474233</td>\n",
       "      <td>118614.474233</td>\n",
       "      <td>246.8925</td>\n",
       "      <td>Model 3</td>\n",
       "      <td>True</td>\n",
       "      <td>NaN</td>\n",
       "      <td>2022-05-22</td>\n",
       "      <td>4129.0</td>\n",
       "    </tr>\n",
       "    <tr>\n",
       "      <th>2</th>\n",
       "      <td>1003</td>\n",
       "      <td>1001</td>\n",
       "      <td>1959-07-15 00:00:00</td>\n",
       "      <td>M</td>\n",
       "      <td>1.0</td>\n",
       "      <td>diesel</td>\n",
       "      <td>NaN</td>\n",
       "      <td>21750.22</td>\n",
       "      <td>2017-02-07 00:00:00</td>\n",
       "      <td>2019-09-10 09:57:10</td>\n",
       "      <td>31.0</td>\n",
       "      <td>NaN</td>\n",
       "      <td>NaN</td>\n",
       "      <td>24.0000</td>\n",
       "      <td>Model 3</td>\n",
       "      <td>False</td>\n",
       "      <td>945.0</td>\n",
       "      <td>NaN</td>\n",
       "      <td>NaN</td>\n",
       "    </tr>\n",
       "    <tr>\n",
       "      <th>4</th>\n",
       "      <td>1005</td>\n",
       "      <td>1003</td>\n",
       "      <td>NaN</td>\n",
       "      <td>F</td>\n",
       "      <td>1.0</td>\n",
       "      <td>diesel</td>\n",
       "      <td>new</td>\n",
       "      <td>30577.61</td>\n",
       "      <td>2015-10-09 00:00:00</td>\n",
       "      <td>NaN</td>\n",
       "      <td>38.0</td>\n",
       "      <td>79934.320487</td>\n",
       "      <td>79934.320487</td>\n",
       "      <td>303.7700</td>\n",
       "      <td>Model 5</td>\n",
       "      <td>True</td>\n",
       "      <td>NaN</td>\n",
       "      <td>2022-05-22</td>\n",
       "      <td>2417.0</td>\n",
       "    </tr>\n",
       "    <tr>\n",
       "      <th>5</th>\n",
       "      <td>1006</td>\n",
       "      <td>1003</td>\n",
       "      <td>NaN</td>\n",
       "      <td>F</td>\n",
       "      <td>1.0</td>\n",
       "      <td>diesel</td>\n",
       "      <td>new</td>\n",
       "      <td>28439.18</td>\n",
       "      <td>2017-02-20 00:00:00</td>\n",
       "      <td>NaN</td>\n",
       "      <td>22.0</td>\n",
       "      <td>42736.385081</td>\n",
       "      <td>42736.385081</td>\n",
       "      <td>772.8800</td>\n",
       "      <td>Model 5</td>\n",
       "      <td>True</td>\n",
       "      <td>NaN</td>\n",
       "      <td>2022-05-22</td>\n",
       "      <td>1917.0</td>\n",
       "    </tr>\n",
       "  </tbody>\n",
       "</table>\n",
       "</div>"
      ],
      "text/plain": [
       "   ownership_id  client_id    client_birth_date client_gender  bornes_count  \\\n",
       "0          1001       1001  1959-07-15 00:00:00             M           1.0   \n",
       "1          1002       1001  1959-07-15 00:00:00             M           1.0   \n",
       "2          1003       1001  1959-07-15 00:00:00             M           1.0   \n",
       "4          1005       1003                  NaN             F           1.0   \n",
       "5          1006       1003                  NaN             F           1.0   \n",
       "\n",
       "  vehicle_fuel_type vehicle_new_used  vehicle_price ownership_start_date  \\\n",
       "0            diesel              new       21750.22  2014-12-17 14:41:25   \n",
       "1            diesel              new       21499.38  2011-01-31 00:00:00   \n",
       "2            diesel              NaN       21750.22  2017-02-07 00:00:00   \n",
       "4            diesel              new       30577.61  2015-10-09 00:00:00   \n",
       "5            diesel              new       28439.18  2017-02-20 00:00:00   \n",
       "\n",
       "  ownership_lapsed_date  vehicle_age  vehicle_mileage  driven_mileage  \\\n",
       "0   2017-03-28 13:25:06         27.0     26375.953678    26555.835812   \n",
       "1                   NaN         95.0    118614.474233   118614.474233   \n",
       "2   2019-09-10 09:57:10         31.0              NaN             NaN   \n",
       "4                   NaN         38.0     79934.320487    79934.320487   \n",
       "5                   NaN         22.0     42736.385081    42736.385081   \n",
       "\n",
       "   mean_transaction_invoice vehicle_model  current_ownership  \\\n",
       "0                  120.1500       Model 3              False   \n",
       "1                  246.8925       Model 3               True   \n",
       "2                   24.0000       Model 3              False   \n",
       "4                  303.7700       Model 5               True   \n",
       "5                  772.8800       Model 5               True   \n",
       "\n",
       "   length_of_previous_ownership ownership_current_date  \\\n",
       "0                         831.0                    NaN   \n",
       "1                           NaN             2022-05-22   \n",
       "2                         945.0                    NaN   \n",
       "4                           NaN             2022-05-22   \n",
       "5                           NaN             2022-05-22   \n",
       "\n",
       "   length_of_current_ownership  \n",
       "0                          NaN  \n",
       "1                       4129.0  \n",
       "2                          NaN  \n",
       "4                       2417.0  \n",
       "5                       1917.0  "
      ]
     },
     "execution_count": 15,
     "metadata": {},
     "output_type": "execute_result"
    }
   ],
   "source": [
    "df_ownership.head()"
   ]
  },
  {
   "cell_type": "code",
   "execution_count": null,
   "metadata": {},
   "outputs": [
    {
     "name": "stderr",
     "output_type": "stream",
     "text": [
      "C:\\Users\\PC\\Anaconda3\\lib\\site-packages\\seaborn\\distributions.py:2551: FutureWarning: `distplot` is a deprecated function and will be removed in a future version. Please adapt your code to use either `displot` (a figure-level function with similar flexibility) or `histplot` (an axes-level function for histograms).\n",
      "  warnings.warn(msg, FutureWarning)\n",
      "C:\\Users\\PC\\Anaconda3\\lib\\site-packages\\seaborn\\distributions.py:2551: FutureWarning: `distplot` is a deprecated function and will be removed in a future version. Please adapt your code to use either `displot` (a figure-level function with similar flexibility) or `histplot` (an axes-level function for histograms).\n",
      "  warnings.warn(msg, FutureWarning)\n"
     ]
    }
   ],
   "source": [
    "#plot previous and current ownership length\n",
    "fig, ax = plt.subplots(1, 2, figsize=(18,4))\n",
    "\n",
    "LPO_val = df_ownership.loc[ df_ownership.length_of_previous_ownership.notna() ,'length_of_previous_ownership'].values\n",
    "LCO_val = df_ownership.loc[ df_ownership.length_of_current_ownership.notna() ,'length_of_current_ownership'].values\n",
    "\n",
    "sns.distplot(LPO_val, ax=ax[0], color='r')\n",
    "ax[0].set_title('Distribution of previous ownership length', fontsize=14)\n",
    "ax[0].set_xlim([min(LPO_val), max(LPO_val)])\n",
    "\n",
    "sns.distplot(LCO_val, ax=ax[1], color='b')\n",
    "ax[1].set_title('Distribution of current ownership length', fontsize=14)\n",
    "ax[1].set_xlim([min(LCO_val), max(LCO_val)])\n",
    "\n",
    "\n",
    "\n",
    "plt.show()"
   ]
  },
  {
   "cell_type": "markdown",
   "metadata": {},
   "source": [
    "Is this a new vehicle story?"
   ]
  },
  {
   "cell_type": "code",
   "execution_count": null,
   "metadata": {},
   "outputs": [],
   "source": [
    "#plot previous and current ownership length for new cars only\n",
    "data_new_cars = df_ownership.query(\"vehicle_new_used == 'new'\")\n",
    "\n",
    "fig, ax = plt.subplots(1, 2, figsize=(18,4))\n",
    "\n",
    "LPO_val = data_new_cars.loc[ data_new_cars.length_of_previous_ownership.notna() ,'length_of_previous_ownership'].values\n",
    "LCO_val = data_new_cars.loc[ data_new_cars.length_of_current_ownership.notna() ,'length_of_current_ownership'].values\n",
    "\n",
    "sns.distplot(LPO_val, ax=ax[0], color='r')\n",
    "ax[0].set_title('Distribution of previous ownership lenght', fontsize=14)\n",
    "ax[0].set_xlim([min(LPO_val), max(LPO_val)])\n",
    "\n",
    "sns.distplot(LCO_val, ax=ax[1], color='b')\n",
    "ax[1].set_title('Distribution of current ownership lenght', fontsize=14)\n",
    "ax[1].set_xlim([min(LCO_val), max(LCO_val)])\n",
    "\n",
    "\n",
    "\n",
    "plt.show()"
   ]
  },
  {
   "cell_type": "markdown",
   "metadata": {},
   "source": [
    "Okay. So it is important to focus only on current vehicles. So it's important to know if the data line corresponds to a new vehicle or not... "
   ]
  },
  {
   "cell_type": "code",
   "execution_count": null,
   "metadata": {},
   "outputs": [],
   "source": [
    "df_ownership['current_vehicle_model'] = np.where(df_ownership['current_ownership'], np.nan, df_ownership['vehicle_model'])\n",
    "df_ownership['current_vehicle_new_used'] = np.where(df_ownership['current_ownership'], np.nan, df_ownership['vehicle_new_used'])\n",
    "df_ownership['current_vehicle_fuel_type'] = np.where(df_ownership['current_ownership'], np.nan, df_ownership['vehicle_fuel_type'])\n",
    "df_ownership['current_vehicle_price'] = np.where(df_ownership['current_ownership'], np.nan, df_ownership['vehicle_price'])\n",
    "df_ownership['current_vehicle_age'] = np.where(df_ownership['current_ownership'], np.nan, df_ownership['vehicle_age'])\n",
    "df_ownership['current_driven_mileage'] = np.where(df_ownership['current_ownership'], np.nan, df_ownership['driven_mileage'])\n",
    "df_ownership['current_vehicle_mileage'] = np.where(df_ownership['current_ownership'], np.nan, df_ownership['vehicle_mileage'])"
   ]
  },
  {
   "cell_type": "code",
   "execution_count": null,
   "metadata": {},
   "outputs": [],
   "source": [
    "df_ownership.head()"
   ]
  },
  {
   "cell_type": "markdown",
   "metadata": {},
   "source": [
    "# 3 - Data Processing"
   ]
  },
  {
   "cell_type": "markdown",
   "metadata": {},
   "source": [
    "### Working with categorical data\n",
    "We want to be able to see if the fact that the client is a man or a woman, or owned a car he bought new or used, has any impact on the probability to by a new car soon. For that machine learning algorithm need to be feed with numbers and so with numerical data. So we have to convert our categorical data into numeric data known as \"dummies\" through One hot encoding approach.\n",
    "\n",
    "One hot encoding is the most widespread approach, and it works very well unless your categorical variable takes on a large number of values (i.e. you generally won't it for variables taking more than 15 different values. It'd be a poor choice in some cases with fewer values, though that varies.)\n",
    "\n",
    "One hot encoding creates new (binary) columns, indicating the presence of each possible value from the original data. For exemple if we have a variable which can take as value Red, Yellow and Green. We can create a separate column for each possible value. Wherever the original value was Red, we put a 1 in the Red column."
   ]
  },
  {
   "cell_type": "code",
   "execution_count": null,
   "metadata": {},
   "outputs": [],
   "source": [
    "#add columns with dummies for specified variables\n",
    "df_ownership = pd.get_dummies(df_ownership, columns= ['current_vehicle_model', 'current_vehicle_fuel_type', 'current_vehicle_new_used'])"
   ]
  },
  {
   "cell_type": "code",
   "execution_count": null,
   "metadata": {},
   "outputs": [],
   "source": [
    "df_ownership.head()"
   ]
  },
  {
   "cell_type": "code",
   "execution_count": null,
   "metadata": {},
   "outputs": [],
   "source": [
    "df_ownership.columns.tolist()"
   ]
  },
  {
   "cell_type": "markdown",
   "metadata": {},
   "source": [
    "### Import data to predict"
   ]
  },
  {
   "cell_type": "markdown",
   "metadata": {},
   "source": [
    "Now that we have the explanatory variables, we still need a base with the variable we want to predict."
   ]
  },
  {
   "cell_type": "code",
   "execution_count": null,
   "metadata": {},
   "outputs": [],
   "source": [
    "#import tha database with purchase data\n",
    "df_purchase = pd.read_csv('data\\purchase_data_2019.csv', index_col = 0)"
   ]
  },
  {
   "cell_type": "code",
   "execution_count": null,
   "metadata": {},
   "outputs": [],
   "source": [
    "df_purchase.head()"
   ]
  },
  {
   "cell_type": "code",
   "execution_count": null,
   "metadata": {},
   "outputs": [],
   "source": [
    "df_purchase.info()"
   ]
  },
  {
   "cell_type": "code",
   "execution_count": null,
   "metadata": {},
   "outputs": [],
   "source": [
    "#how many clients have bought a car in 2019 ?\n",
    "df_purchase.car_bought_in_2019.value_counts()"
   ]
  },
  {
   "cell_type": "code",
   "execution_count": null,
   "metadata": {
    "scrolled": false
   },
   "outputs": [],
   "source": [
    "#plot car buyers and non buyers\n",
    "counts = df_purchase['car_bought_in_2019'].value_counts().sort_index()\n",
    "fig = plt.figure(figsize=(9, 6))\n",
    "ax = fig.gca()\n",
    "counts.plot.bar(ax = ax, color='steelblue')\n",
    "ax.set_title('car_bought_in_2019' + ' counts')\n",
    "ax.set_xlabel('car_bought_in_2019') \n",
    "ax.set_ylabel(\"Frequency\")\n",
    "plt.show()\n",
    "\n",
    "print(\"There is \" +  str(df_purchase.query('car_bought_in_2019 == 1').car_bought_in_2019.count()) + \" buying of new car in 2019\")"
   ]
  },
  {
   "cell_type": "markdown",
   "metadata": {},
   "source": [
    "We want to be able to link this data to the one of before 2018 to be able to know which characteritics of before 2018 car owners can help to predict if people will buy a new car in the next year"
   ]
  },
  {
   "cell_type": "code",
   "execution_count": null,
   "metadata": {},
   "outputs": [],
   "source": [
    "#merge the two databases on \"client_id\"\n",
    "df_data = pd.merge(df_ownership, df_purchase , on= 'client_id', how='left')"
   ]
  },
  {
   "cell_type": "code",
   "execution_count": null,
   "metadata": {
    "scrolled": true
   },
   "outputs": [],
   "source": [
    "df_data.info()"
   ]
  },
  {
   "cell_type": "markdown",
   "metadata": {},
   "source": [
    "We can see that all rows of \"car_bought_in_2019\" are not null, meaning that all client_id have a match"
   ]
  },
  {
   "cell_type": "code",
   "execution_count": null,
   "metadata": {},
   "outputs": [],
   "source": [
    "df_data.car_bought_in_2019.value_counts()"
   ]
  },
  {
   "cell_type": "code",
   "execution_count": null,
   "metadata": {},
   "outputs": [],
   "source": [
    "print(\"There is #client_id : \" + str(df_data.client_id.drop_duplicates().count()))\n",
    "print(\"There is #ownership_id \"+ str(df_data.ownership_id.drop_duplicates().count()))"
   ]
  },
  {
   "cell_type": "markdown",
   "metadata": {},
   "source": [
    "### Creation of client view database\n",
    "\n",
    "We have client with several ownership, so we need to compute a base with a ganurality at the client_id. So we want a database with one row per client_id.\n",
    "\n",
    "E.g. : # of cars, oldest car, newest car etc..."
   ]
  },
  {
   "cell_type": "code",
   "execution_count": null,
   "metadata": {},
   "outputs": [],
   "source": [
    "client_info = ['client_id', 'client_birth_date', 'client_gender']\n",
    "dict_agg = { 'vehicle_price' : ['mean'],\n",
    "            'vehicle_age' : ['max'],\n",
    "            'bornes_count' : ['mean', 'max'],\n",
    "            'driven_mileage' : ['max'],\n",
    "            'vehicle_mileage' : ['max'],\n",
    "            'ownership_id' : ['count'],\n",
    "            'length_of_current_ownership' : ['max', 'min'],\n",
    "            'length_of_previous_ownership' : ['max'],\n",
    "            'current_vehicle_price': ['max'],\n",
    "            'current_vehicle_age': ['max'],\n",
    "            'current_driven_mileage': ['max'],\n",
    "            'current_vehicle_mileage': ['max'],\n",
    "             'current_vehicle_model_Model 3': ['max'],\n",
    "             'current_vehicle_model_Model 2': ['max'],\n",
    "            'current_vehicle_model_Model 1': ['max'],\n",
    "            'current_vehicle_model_Model 4': ['max'],\n",
    "            'current_vehicle_model_Model 5': ['max'],\n",
    "             'current_vehicle_fuel_type_diesel': ['max'],\n",
    "             'current_vehicle_fuel_type_electric': ['max'],\n",
    "             'current_vehicle_fuel_type_hybrid': ['max'],\n",
    "             'current_vehicle_fuel_type_petrol': ['max'],\n",
    "             'current_vehicle_new_used_new': ['max'],\n",
    "            'current_ownership' : ['max'],\n",
    "            'car_bought_in_2019'  : ['max']\n",
    "            \n",
    "}\n",
    "\n",
    "data_client = df_data.groupby(by = client_info, dropna=True).agg(dict_agg)"
   ]
  },
  {
   "cell_type": "code",
   "execution_count": null,
   "metadata": {},
   "outputs": [],
   "source": [
    "data_client.columns = [\"_\".join(x) for x in data_client.columns.ravel()]\n",
    "data_client.reset_index(inplace=True)"
   ]
  },
  {
   "cell_type": "code",
   "execution_count": null,
   "metadata": {},
   "outputs": [],
   "source": [
    "data_client.head()"
   ]
  },
  {
   "cell_type": "code",
   "execution_count": null,
   "metadata": {},
   "outputs": [],
   "source": [
    "data_client.columns.tolist()"
   ]
  },
  {
   "cell_type": "code",
   "execution_count": null,
   "metadata": {},
   "outputs": [],
   "source": [
    "f,ax=plt.subplots(1,2,figsize=(18,8))\n",
    "data_client[['client_gender','car_bought_in_2019_max']].groupby(['client_gender']).count().plot.bar(ax=ax[0])\n",
    "ax[0].set_title('car_bought_in_2019 vs Sex')\n",
    "sns.countplot('client_gender',hue='car_bought_in_2019_max',data=data_client,ax=ax[1])\n",
    "ax[1].set_title('Sex:car bought vs not')\n",
    "plt.show()\n",
    "\n",
    "print(\"There is \" +  str(data_client.query('car_bought_in_2019_max == 1').car_bought_in_2019_max.count()) + \" buying of new car in 2019\")"
   ]
  },
  {
   "cell_type": "markdown",
   "metadata": {},
   "source": [
    "### Working with categorical data\n",
    "\n",
    "We want to be able to see if the fact that the client is a man or a woman, or owned a car he bought new or used, has any impact on the probability to buy a new car soon. For that machine learning algorithme need to be feed with numbers and so with numerical data. So we have to convert our categorical data into numeric data known as \"dummies\" through One hot encoding approach.\n",
    "\n",
    "One hot encoding is the most widespread approach, and it works very well unless your categorical variable takes on a large number of values (i.e. you generally won't it for variables taking more than 15 different values. It'd be a poor choice in some cases with fewer values, though that varies.)\n",
    "\n",
    "One hot encoding creates new (binary) columns, indicating the presence of each possible value from the original data.\n",
    "For exemple if we have a variable which can take as value Red, Yellow and Green. We can create a separate column for each possible value. Wherever the original value was Red, we put a 1 in the Red column."
   ]
  },
  {
   "cell_type": "code",
   "execution_count": null,
   "metadata": {},
   "outputs": [],
   "source": [
    "data_client = pd.get_dummies(data_client, columns= ['client_gender'])"
   ]
  },
  {
   "cell_type": "markdown",
   "metadata": {},
   "source": [
    "To simplify the analysis we will remove all client on which we do not have any info on the milage of the car and no current car"
   ]
  },
  {
   "cell_type": "code",
   "execution_count": null,
   "metadata": {},
   "outputs": [],
   "source": [
    "data_client.info()"
   ]
  },
  {
   "cell_type": "code",
   "execution_count": null,
   "metadata": {},
   "outputs": [],
   "source": [
    "data_client.dropna(subset = ['driven_mileage_max'], how='any', inplace = True)\n",
    "print(\"There is \" +  str(data_client.query('car_bought_in_2019_max == 1').car_bought_in_2019_max.count()) + \" remaining buying of new car in 2019\")"
   ]
  },
  {
   "cell_type": "markdown",
   "metadata": {},
   "source": [
    "In this scenario, our subsample will be a dataframe with a 50/50 ratio of buyers and non-buyers. Meaning our sub-sample will have the same amount of client with a purchase in 2019 and client without.\n",
    "\n",
    "#### Why do we create a sub-Sample?\n",
    "\n",
    "In the beginning of this notebook we saw that the original dataframe was heavily imbalanced! Using the original dataframe will cause the following issues:\n",
    "- Overfitting: Our classification models will assume that in most cases there are no purchase of a car! What we want for our model is to be certain when there will be one.\n",
    "- Wrong Correlations: Although we don't know what the \"V\" features stand for, it will be useful to understand how each of this features influence the result (new car bought or not) by having an imbalance dataframe we are not able to see the true correlations between the class and features."
   ]
  },
  {
   "cell_type": "markdown",
   "metadata": {},
   "source": [
    "#### What will happen if we try to do a scoring algorithm without any resampling?"
   ]
  },
  {
   "cell_type": "code",
   "execution_count": null,
   "metadata": {},
   "outputs": [],
   "source": [
    "from sklearn.model_selection import train_test_split\n",
    "from sklearn.model_selection import StratifiedShuffleSplit\n",
    "from sklearn.model_selection import KFold, StratifiedKFold\n",
    "\n",
    "print('No purchase', round(data_client['car_bought_in_2019_max'].value_counts()[0]/len(data_client) * 100,2), '% of the dataset')\n",
    "print('Purchase', round(data_client['car_bought_in_2019_max'].value_counts()[1]/len(data_client) * 100,2), '% of the dataset')"
   ]
  },
  {
   "cell_type": "markdown",
   "metadata": {},
   "source": [
    "### Random Under-Sampling"
   ]
  },
  {
   "cell_type": "code",
   "execution_count": null,
   "metadata": {},
   "outputs": [],
   "source": [
    "data_client.car_bought_in_2019_max.value_counts()"
   ]
  },
  {
   "cell_type": "code",
   "execution_count": null,
   "metadata": {},
   "outputs": [],
   "source": [
    "nb_purchase = data_client.car_bought_in_2019_max.value_counts()[1]"
   ]
  },
  {
   "cell_type": "code",
   "execution_count": null,
   "metadata": {},
   "outputs": [],
   "source": [
    "data_client = data_client.sample(frac=1)\n",
    "\n",
    "# amount of fraud classes 5069 rows.\n",
    "purchase_df = data_client.loc[data_client['car_bought_in_2019_max'] == 1]\n",
    "print(purchase_df.shape)\n",
    "non_purchase_df = data_client.loc[data_client['car_bought_in_2019_max'] == 0][:nb_purchase]\n",
    "\n",
    "normal_distributed_df = pd.concat([purchase_df, non_purchase_df])\n",
    "\n",
    "# Shuffle dataframe rows\n",
    "new_df = normal_distributed_df.sample(frac=1, random_state=42)\n",
    "\n",
    "new_df.head()"
   ]
  },
  {
   "cell_type": "code",
   "execution_count": null,
   "metadata": {},
   "outputs": [],
   "source": [
    "colors = [\"#0101DF\", \"#DF0101\"]\n",
    "\n",
    "print('Distribution of the Classes in the subsample dataset')\n",
    "print(new_df['car_bought_in_2019_max'].value_counts()/len(new_df))\n",
    "\n",
    "sns.countplot('car_bought_in_2019_max', data=new_df, palette=colors)\n",
    "plt.title('Equally Distributed Classes', fontsize=14)\n",
    "plt.show()"
   ]
  },
  {
   "cell_type": "markdown",
   "metadata": {},
   "source": [
    "# 4 - Data Modeling"
   ]
  },
  {
   "cell_type": "markdown",
   "metadata": {},
   "source": [
    "## First modeling"
   ]
  },
  {
   "cell_type": "markdown",
   "metadata": {},
   "source": [
    "Correlation matrices are the essence of understanding our data. We want to know if there are features that influence heavily in whether a client will purchase a car. However, it is important that we use the correct dataframe (subsample) in order for us to see which features have a high positive or negative correlation with regards to new car purchase."
   ]
  },
  {
   "cell_type": "code",
   "execution_count": null,
   "metadata": {},
   "outputs": [],
   "source": [
    "# Make sure we use the client data sub sample in our correlation\n",
    "\n",
    "f, ax = plt.subplots(1, 1, figsize=(24,20))\n",
    "\n",
    "sub_sample_corr = new_df.corr()\n",
    "sns.heatmap(sub_sample_corr, cmap='RdBu', annot_kws={'size':8}, ax=ax, linecolor='black', annot = True, linewidths = 0.01)\n",
    "ax.set_title('SubSample Correlation Matrix \\n (use for reference)', fontsize=14)\n",
    "plt.show()"
   ]
  },
  {
   "cell_type": "markdown",
   "metadata": {},
   "source": [
    "**You look at those variables that have a higher correlation with your prediction variable**"
   ]
  },
  {
   "cell_type": "markdown",
   "metadata": {},
   "source": [
    "Client gender is interesting since it is correlated with bought vehicle and it has negative correlation with the other predictor variables"
   ]
  },
  {
   "cell_type": "markdown",
   "metadata": {},
   "source": [
    "Most correlated variable to be tested:\n",
    "- ownership_id_count\n",
    "- vehicle_price_mean\n",
    "- length_of_current_ownership_min\n",
    "- current_vehicle_price_max\n",
    "- current_vehicle_model_Model 3_max\n",
    "- current_vehicle_fuel_type_diesel_max\n",
    "- current_vehicle_new_used_new_max\n",
    "- client_gender_M"
   ]
  },
  {
   "cell_type": "code",
   "execution_count": null,
   "metadata": {},
   "outputs": [],
   "source": [
    "data_client.info()"
   ]
  },
  {
   "cell_type": "code",
   "execution_count": null,
   "metadata": {},
   "outputs": [],
   "source": [
    "f, axes = plt.subplots(ncols=4, figsize=(20,4))\n",
    "\n",
    "# Negative Correlations with our Class (The lower our feature value the more likely it will be a fraud transaction)\n",
    "\n",
    "sns.boxplot(x=\"car_bought_in_2019_max\", y=\"vehicle_price_mean\", data=new_df, palette=colors, ax=axes[0])\n",
    "axes[0].set_title('')\n",
    "\n",
    "\n",
    "sns.boxplot(x=\"car_bought_in_2019_max\", y=\"length_of_current_ownership_min\", data=new_df, palette=colors, ax=axes[1])\n",
    "axes[1].set_title('')\n",
    "\n",
    "\n",
    "sns.boxplot(x=\"car_bought_in_2019_max\", y=\"current_vehicle_price_max\", data=new_df, palette=colors, ax=axes[2])\n",
    "axes[2].set_title('')\n",
    "\n",
    "sns.boxplot(x=\"car_bought_in_2019_max\", y=\"bornes_count_mean\", data=new_df, palette=colors, ax=axes[3])\n",
    "axes[3].set_title('')\n",
    "\n",
    "\n",
    "plt.show()"
   ]
  },
  {
   "cell_type": "markdown",
   "metadata": {},
   "source": [
    "## Anomaly Detection\n",
    "\n",
    "Our main aim in this section is to remove \"extreme outliers\" from features that have a high correlation with our classes. This will have a positive impact on the accuracy of our models.\n",
    "\n",
    "Interquartile Range Method\n",
    "<ul> <li> Interquartile Range (IQR): We calculate this by the difference between the 75th percentile and 25th percentile. Our aim is to create a threshold beyond the 75th and 25th percentile that in case some instance pass this threshold the instance will be deleted.</li>\n",
    "<li> Boxplots: Besides easily seeing the 25th and 75th percentiles (both end of the squares) it is also easy to see extreme outliers (points beyond the lower and higher extreme).</li> </ul>\n",
    "\n",
    "Outlier Removal Tradeoff:\n",
    "We have to be careful as to how far do we want the threshold for removing outliers. We determine the threshold by multiplying a number (ex: 1.5) by the (Interquartile Range). The higher this threshold is, the less outliers will detect (multiplying by a higher number ex: 3), and the lower this threshold is the more outliers it will detect.\n",
    "\n",
    "<b>The Tradeoff </b>: The lower the threshold the more outliers it will remove however, we want to focus more on \"extreme outliers\" rather than just outliers. Why? because we might run the risk of information loss which will cause our models to have a lower accuracy. You can play with this threshold and see how it affects the accuracy of our classification models."
   ]
  },
  {
   "cell_type": "code",
   "execution_count": null,
   "metadata": {},
   "outputs": [],
   "source": [
    "from scipy.stats import norm\n",
    "\n",
    "f, (ax1, ax2) = plt.subplots(1,2, figsize=(20, 6))\n",
    "\n",
    "v1_purchase_dist = new_df['current_vehicle_price_max'].loc[(new_df['car_bought_in_2019_max'] == 1) & (new_df['current_vehicle_price_max'].notna())].values\n",
    "sns.distplot(v1_purchase_dist,ax=ax1, fit=norm, color='#FB8861')\n",
    "ax1.set_title('current_vehicle_price_max', fontsize=14)\n",
    "\n",
    "v2_purchase_dist = new_df['length_of_current_ownership_min'].loc[(new_df['car_bought_in_2019_max'] == 1) & (new_df['length_of_current_ownership_min'].notna())].values\n",
    "sns.distplot(v2_purchase_dist,ax=ax2, fit=norm, color='#FB8861')\n",
    "ax2.set_title('length_of_current_ownership_min', fontsize=14)\n",
    "\n",
    "plt.show()\n"
   ]
  },
  {
   "cell_type": "code",
   "execution_count": null,
   "metadata": {},
   "outputs": [],
   "source": [
    "# # -----> V1 Removing Outliers (Highest Negative Correlated with Labels)\n",
    "v1_purchase = new_df['vehicle_age_max'].loc[new_df['car_bought_in_2019_max'] == 1].values\n",
    "q25, q75 = np.percentile(v1_purchase, 25), np.percentile(v1_purchase, 75)\n",
    "print('Quartile 25: {} | Quartile 75: {}'.format(q25, q75))\n",
    "v1_iqr = q75 - q25\n",
    "print('iqr: {}'.format(v1_iqr))\n",
    "\n",
    "v1_cut_off = v1_iqr * 1.5\n",
    "v1_lower, v1_upper = q25 - v1_cut_off, q75 + v1_cut_off\n",
    "print('Cut Off: {}'.format(v1_cut_off))\n",
    "print('V1 Lower: {}'.format(v1_lower))\n",
    "print('V1 Upper: {}'.format(v1_upper))\n",
    "\n",
    "outliers = [x for x in v1_purchase if x < v1_lower or x > v1_upper]\n",
    "print('Feature V1 Outliers for Fraud Cases: {}'.format(len(outliers)))\n",
    "print('V1 outliers:{}'.format(outliers))\n",
    "\n",
    "new_df = new_df.drop(new_df[(new_df['vehicle_age_max'] > v1_upper) | (new_df['vehicle_age_max'] < v1_lower)].index)\n",
    "print('----' * 44)\n",
    "\n",
    "# # -----> V2 Removing Outliers (Highest Negative Correlated with Labels)\n",
    "v2_purchase = new_df['vehicle_mileage_max'].loc[(new_df['car_bought_in_2019_max'] == 1)& (new_df['vehicle_mileage_max'].notna())].values\n",
    "q25, q75 = np.percentile(v2_purchase, 25), np.percentile(v2_purchase, 75)\n",
    "print('Quartile 25: {} | Quartile 75: {}'.format(q25, q75))\n",
    "v2_iqr = q75 - q25\n",
    "print('iqr: {}'.format(v2_iqr))\n",
    "\n",
    "v2_cut_off = v2_iqr * 1.5\n",
    "v2_lower, v2_upper = q25 - v2_cut_off, q75 + v2_cut_off\n",
    "print('Cut Off: {}'.format(v2_cut_off))\n",
    "print('V1 Lower: {}'.format(v2_lower))\n",
    "print('V1 Upper: {}'.format(v2_upper))\n",
    "\n",
    "outliers = [x for x in v2_purchase if x < v2_lower or x > v2_upper]\n",
    "print('Feature V2 Outliers for Fraud Cases: {}'.format(len(outliers)))\n",
    "print('V2 outliers:{}'.format(outliers))\n",
    "\n",
    "new_df = new_df.drop(new_df[(new_df['vehicle_mileage_max'] > v2_upper) | (new_df['vehicle_mileage_max'] < v2_lower)].index)\n",
    "print('----' * 44)"
   ]
  },
  {
   "cell_type": "code",
   "execution_count": null,
   "metadata": {},
   "outputs": [],
   "source": [
    "from scipy.stats import norm\n",
    "\n",
    "f, (ax1, ax2) = plt.subplots(1,2, figsize=(20, 6))\n",
    "\n",
    "v1_purchase_dist = new_df['vehicle_age_max'].loc[new_df['car_bought_in_2019_max'] == 1].values\n",
    "sns.distplot(v1_purchase_dist,ax=ax1, fit=norm, color='#FB8861')\n",
    "ax1.set_title('', fontsize=14)\n",
    "\n",
    "v2_purchase_dist = new_df['vehicle_mileage_max'].loc[(new_df['car_bought_in_2019_max'] == 1) & (new_df['vehicle_mileage_max'].notna())].values\n",
    "sns.distplot(v2_purchase_dist,ax=ax2, fit=norm, color='#FB8861')\n",
    "ax2.set_title('', fontsize=14)\n",
    "\n",
    "plt.show()"
   ]
  },
  {
   "cell_type": "markdown",
   "metadata": {},
   "source": [
    "In this section we will train a model to try to predict which client will by a new car or not. Before we have to split our data into training and testing sets and separate the features from the labels."
   ]
  },
  {
   "cell_type": "code",
   "execution_count": null,
   "metadata": {},
   "outputs": [],
   "source": [
    "new_df.head()"
   ]
  },
  {
   "cell_type": "markdown",
   "metadata": {},
   "source": [
    "List = \n",
    "- ownership_id_count\n",
    "- vehicle_price_mean\n",
    "- length_of_current_ownership_min\n",
    "- current_vehicle_price_max\n",
    "- current_vehicle_model_Model 3_max\n",
    "- current_vehicle_fuel_type_diesel_max\n",
    "- current_vehicle_new_used_new_max\n",
    "- client_gender_M"
   ]
  },
  {
   "cell_type": "code",
   "execution_count": null,
   "metadata": {},
   "outputs": [],
   "source": [
    "columns_to_test = ['ownership_id_count', 'length_of_current_ownership_min', 'current_vehicle_price_max', 'current_vehicle_model_Model 3_max', 'current_vehicle_fuel_type_diesel_max', 'current_vehicle_new_used_new_max', 'client_gender_M']\n",
    "new_df_model = new_df[['car_bought_in_2019_max'] + columns_to_test]"
   ]
  },
  {
   "cell_type": "code",
   "execution_count": null,
   "metadata": {},
   "outputs": [],
   "source": [
    "new_df_model.head()"
   ]
  },
  {
   "cell_type": "code",
   "execution_count": null,
   "metadata": {},
   "outputs": [],
   "source": [
    "new_df_model.info()"
   ]
  },
  {
   "cell_type": "markdown",
   "metadata": {},
   "source": [
    "We exclude the price of the current vehicle because we do not have enough data"
   ]
  },
  {
   "cell_type": "code",
   "execution_count": null,
   "metadata": {},
   "outputs": [],
   "source": [
    "new_df_model.drop('current_vehicle_price_max', axis = 1, inplace = True)\n",
    "new_df_model.dropna(how='any', inplace=True)"
   ]
  },
  {
   "cell_type": "markdown",
   "metadata": {},
   "source": [
    "We replace null by average value"
   ]
  },
  {
   "cell_type": "code",
   "execution_count": null,
   "metadata": {},
   "outputs": [],
   "source": [
    "# Undersampling before cross validating (prone to overfit)\n",
    "X = new_df_model.drop('car_bought_in_2019_max', axis=1)\n",
    "y = new_df_model['car_bought_in_2019_max']"
   ]
  },
  {
   "cell_type": "code",
   "execution_count": null,
   "metadata": {},
   "outputs": [],
   "source": [
    "# Our data is already scaled we should split our training and test sets\n",
    "from sklearn.model_selection import train_test_split\n",
    "\n",
    "# This is explicitly used for undersampling.\n",
    "X_train, X_test, y_train, y_test = train_test_split(X, y, test_size=0.2, random_state=42)"
   ]
  },
  {
   "cell_type": "code",
   "execution_count": null,
   "metadata": {},
   "outputs": [],
   "source": [
    "# Turn the values into an array for feeding the classification algorithms.\n",
    "X_train = X_train.values\n",
    "X_test = X_test.values\n",
    "y_train = y_train.values\n",
    "y_test = y_test.values"
   ]
  },
  {
   "cell_type": "code",
   "execution_count": null,
   "metadata": {
    "scrolled": true
   },
   "outputs": [],
   "source": [
    "# Classifier Libraries\n",
    "from sklearn.linear_model import LogisticRegression\n",
    "from sklearn.model_selection import cross_val_score\n",
    "from sklearn.model_selection import cross_val_predict\n",
    "\n",
    "log_reg = LogisticRegression()\n",
    "log_reg.fit(X_train, y_train)"
   ]
  },
  {
   "cell_type": "code",
   "execution_count": null,
   "metadata": {},
   "outputs": [],
   "source": [
    "from sklearn.metrics import confusion_matrix\n",
    "from sklearn.metrics import precision_score, recall_score\n",
    "from sklearn. metrics import classification_report\n",
    "from sklearn.metrics import accuracy_score"
   ]
  },
  {
   "cell_type": "markdown",
   "metadata": {},
   "source": [
    "Until now, we've considered the predictions from the model as being either 1 or 0 class labels. Actually, things are a little more complex than that. Statistical machine learning algorithms, like logistic regression, are based on probability; so what actually gets predicted by a binary classifier is the probability that the label is true (P(y)) and the probability that the label is false (1 - P(y)). A threshold value of 0.5 is used to decide whether the predicted label is a 1 (P(y) > 0.5) or a 0 (P(y) <= 0.5). You can use the predict_proba method to see the probability pairs for each case:"
   ]
  },
  {
   "cell_type": "code",
   "execution_count": null,
   "metadata": {},
   "outputs": [],
   "source": [
    "scores = log_reg.predict_proba(X_test)\n",
    "print(scores)"
   ]
  },
  {
   "cell_type": "markdown",
   "metadata": {},
   "source": [
    "The decision to score a prediction as a 1 or a 0 depends on the threshold to which the predicted probabilities are compared. If we were to change the threshold, it would affect the predictions; and therefore change the metrics in the confusion matrix. A common way to evaluate a classifier is to examine the true positive rate (which is another name for recall) and the false positive rate for a range of possible thresholds. These rates are then plotted against all possible thresholds to form a chart known as a received operator characteristic (ROC) chart, like this:"
   ]
  },
  {
   "cell_type": "code",
   "execution_count": null,
   "metadata": {},
   "outputs": [],
   "source": [
    "predictions = log_reg.predict(X_test)\n",
    "print(predictions)"
   ]
  },
  {
   "cell_type": "code",
   "execution_count": null,
   "metadata": {
    "scrolled": true
   },
   "outputs": [],
   "source": [
    "print('Actual labels:    ' ,y_test)"
   ]
  },
  {
   "cell_type": "markdown",
   "metadata": {},
   "source": [
    "The classification report includes the following metrics for each class  (0 and 1)\n",
    "\n",
    "> note that the header row may not line up with the values!\n",
    "\n",
    "* *Precision*: Of the predictions the model made for this class, what proportion were correct?\n",
    "* *Recall*: Out of all of the instances of this class in the test dataset, how many did the model identify?\n",
    "\n",
    "The classification report also includes averages for these metrics, including a weighted average that allows for the imbalance in the number of cases of each class.\n",
    "\n",
    "Because this is a *binary* classification problem, the ***1*** class is considered *positive* and its precision and recall are particularly interesting - these in effect answer the questions:\n",
    "\n",
    "- Of all the client the model predicted are potential buyers, how many are actually buyers in 2019?\n",
    "- Of all the client that are actually buyers in 2019, how many did the model identify?\n",
    "\n",
    "You can retrieve these values on their own by using the **precision_score** and **recall_score** metrics in scikit-learn (which by default assume a binary classification model)."
   ]
  },
  {
   "cell_type": "code",
   "execution_count": null,
   "metadata": {
    "scrolled": true
   },
   "outputs": [],
   "source": [
    "print('Accuracy: ', accuracy_score(y_test, predictions))\n",
    "\n",
    "print(\"Overall Precision:\",precision_score(y_test, predictions))\n",
    "print(\"Overall Recall:\",recall_score(y_test, predictions))"
   ]
  },
  {
   "cell_type": "markdown",
   "metadata": {},
   "source": [
    "The precision and recall metrics are derived from four possible prediction outcomes:\n",
    "* *True Positives*: The predicted label and the actual label are both 1.\n",
    "* *False Positives*: The predicted label is 1, but the actual label is 0.\n",
    "* *False Negatives*: The predicted label is 0, but the actual label is 1.\n",
    "* *True Negatives*: The predicted label and the actual label are both 0.\n",
    "\n",
    "These metrics are generally tabulated for the test set and shown together as a *confusion matrix*, which takes the following form:\n",
    "\n",
    "<table style=\"border: 1px solid black;\">\n",
    "    <tr style=\"border: 1px solid black;\">\n",
    "        <td style=\"border: 1px solid black;color: black;\" bgcolor=\"lightgray\">TN</td><td style=\"border: 1px solid black;color: black;\" bgcolor=\"white\">FP</td>\n",
    "    </tr>\n",
    "    <tr style=\"border: 1px solid black;\">\n",
    "        <td style=\"border: 1px solid black;color: black;\" bgcolor=\"white\">FN</td><td style=\"border: 1px solid black;color: black;\" bgcolor=\"lightgray\">TP</td>\n",
    "    </tr>\n",
    "</table>\n",
    "\n",
    "Note that the correct (*true*) predictions form a diagonal line from top left to bottom right - these figures should be significantly higher than the *false* predictions if the model is any good.\n",
    "\n",
    "In Python, you can use the **sklearn.metrics.confusion_matrix** function to find these values for a trained classifier:"
   ]
  },
  {
   "cell_type": "code",
   "execution_count": null,
   "metadata": {},
   "outputs": [],
   "source": [
    "# Print the confusion matrix\n",
    "cm = confusion_matrix(y_test, predictions)\n",
    "print (cm)"
   ]
  },
  {
   "cell_type": "markdown",
   "metadata": {},
   "source": [
    "The ROC chart shows the curve of the true and false positive rates for different threshold values between 0 and 1. A perfect classifier would have a curve that goes straight up the left side and straight across the top. The diagonal line across the chart represents the probability of predicting correctly with a 50/50 random prediction; so you obviously want the curve to be higher than that (or your model is no better than simply guessing!).\n",
    "\n",
    "The area under the curve (AUC) is a value between 0 and 1 that quantifies the overall performance of the model. The closer to 1 this value is, the better the model. Once again, scikit-Learn includes a function to calculate this metric."
   ]
  },
  {
   "cell_type": "code",
   "execution_count": null,
   "metadata": {},
   "outputs": [],
   "source": [
    "from sklearn.metrics import roc_curve\n",
    "from sklearn.metrics import roc_auc_score\n",
    "\n",
    "log_reg_pred = cross_val_predict(log_reg, X_train, y_train, cv=5,\n",
    "                             method=\"decision_function\")\n",
    "\n",
    "def logistic_roc_curve(log_fpr, log_tpr):\n",
    "    plt.figure(figsize=(12,8))\n",
    "    plt.title('Logistic Regression ROC Curve', fontsize=16)\n",
    "    plt.plot(log_fpr, log_tpr, 'b-', linewidth=2)\n",
    "    plt.plot([0, 1], [0, 1], 'r--')\n",
    "    plt.xlabel('False Positive Rate', fontsize=16)\n",
    "    plt.ylabel('True Positive Rate', fontsize=16)\n",
    "    plt.axis([-0.01,1,0,1])"
   ]
  },
  {
   "cell_type": "code",
   "execution_count": null,
   "metadata": {},
   "outputs": [],
   "source": [
    "log_fpr, log_tpr, log_thresold = roc_curve(y_train, log_reg_pred)"
   ]
  },
  {
   "cell_type": "code",
   "execution_count": null,
   "metadata": {},
   "outputs": [],
   "source": [
    "logistic_roc_curve(log_fpr, log_tpr)\n",
    "plt.show()"
   ]
  },
  {
   "cell_type": "markdown",
   "metadata": {},
   "source": [
    "In general, we can have multiple predictor variables in a logistic regression model.\n",
    "\n",
    "logit(p) = log(p/(1-p))= β0 + β1*x1 + … + βk*xk\n",
    "\n",
    "Each exponentiated coefficient is the ratio of two odds, or the change in odds in the multiplicative scale for a unit increase in the corresponding predictor variable holding other variables at certain value."
   ]
  },
  {
   "cell_type": "code",
   "execution_count": null,
   "metadata": {
    "scrolled": true
   },
   "outputs": [],
   "source": [
    "for col, coef in zip(columns_to_test, log_reg.coef_.tolist()[0]) :\n",
    "    print(col +\" : \" + str(coef))"
   ]
  },
  {
   "cell_type": "markdown",
   "metadata": {},
   "source": [
    "## Normaly we have to normalize our variables"
   ]
  },
  {
   "cell_type": "code",
   "execution_count": null,
   "metadata": {},
   "outputs": [],
   "source": [
    "from sklearn.preprocessing import StandardScaler\n",
    "from sklearn.metrics import roc_curve"
   ]
  },
  {
   "cell_type": "code",
   "execution_count": null,
   "metadata": {},
   "outputs": [],
   "source": [
    "scaler = StandardScaler()\n",
    "scaler = scaler.fit(X)\n",
    "new_data = scaler.transform(X)\n",
    "new_data = pd.DataFrame(new_data, columns = X.columns)"
   ]
  },
  {
   "cell_type": "code",
   "execution_count": null,
   "metadata": {},
   "outputs": [],
   "source": [
    "new_data.head()"
   ]
  },
  {
   "cell_type": "code",
   "execution_count": null,
   "metadata": {},
   "outputs": [],
   "source": [
    "# This is explicitly used for undersampling.\n",
    "X_train, X_test, y_train, y_test = train_test_split(new_data, y, test_size=0.2, random_state=42)\n",
    "\n",
    "X_train = X_train.values\n",
    "X_test = X_test.values\n",
    "y_train = y_train.values\n",
    "y_test = y_test.values\n",
    "\n",
    "log_reg = LogisticRegression()\n",
    "log_reg.fit(X_train, y_train)"
   ]
  },
  {
   "cell_type": "markdown",
   "metadata": {},
   "source": [
    "The ROC chart shows the curve of the true and false positive rates for different threshold values between 0 and 1. A perfect classifier would have a curve that goes straight up the left side and straight across the top. The diagonal line across the chart represents the probability of predicting correctly with a 50/50 random prediction; so you obviously want the curve to be higher than that (or your model is no better than simply guessing!).\n",
    "\n",
    "The area under the curve (AUC) is a value between 0 and 1 that quantifies the overall performance of the model. The closer to 1 this value is, the better the model. Once again, scikit-Learn includes a function to calculate this metric."
   ]
  },
  {
   "cell_type": "code",
   "execution_count": null,
   "metadata": {},
   "outputs": [],
   "source": [
    "log_reg_pred = cross_val_predict(log_reg, X_train, y_train, cv=5,\n",
    "                             method=\"decision_function\")\n",
    "log_fpr, log_tpr, log_thresold = roc_curve(y_train, log_reg_pred)\n",
    "logistic_roc_curve(log_fpr, log_tpr)\n",
    "plt.show()"
   ]
  },
  {
   "cell_type": "code",
   "execution_count": null,
   "metadata": {},
   "outputs": [],
   "source": [
    "for col, coef in zip(columns_to_test, log_reg.coef_.tolist()[0]) :\n",
    "    print(col +\" : \" + str(coef))"
   ]
  },
  {
   "cell_type": "code",
   "execution_count": null,
   "metadata": {},
   "outputs": [],
   "source": [
    "predictions = log_reg.predict(X_test)"
   ]
  },
  {
   "cell_type": "code",
   "execution_count": null,
   "metadata": {},
   "outputs": [],
   "source": [
    "print('Accuracy: ', accuracy_score(y_test, predictions))\n",
    "\n",
    "print(\"Overall Precision:\",precision_score(y_test, predictions))\n",
    "print(\"Overall Recall:\",recall_score(y_test, predictions))\n",
    "\n",
    "# Print the confusion matrix\n",
    "cm = confusion_matrix(y_test, predictions)\n",
    "print (cm)"
   ]
  },
  {
   "cell_type": "markdown",
   "metadata": {},
   "source": [
    "### Try a different algorithm\n",
    "\n",
    "Now let's try a different algorithm. Previously we used a logistic regression algorithm, which is a *linear* algorithm. There are many kinds of classification algorithm we could try, including:\n",
    "\n",
    "- **Support Vector Machine algorithms**: Algorithms that define a *hyperplane* that separates classes.\n",
    "- **Tree-based algorithms**: Algorithms that build a decision tree to reach a prediction\n",
    "- **Ensemble algorithms**: Algorithms that combine the outputs of multiple base algorithms to improve generalizability.\n",
    "\n",
    "Look here for more information : https://scikit-learn.org/stable/\n",
    "#Googleisyourbestfriend"
   ]
  },
  {
   "cell_type": "code",
   "execution_count": null,
   "metadata": {},
   "outputs": [],
   "source": [
    "from sklearn.svm import SVC\n",
    "# This is explicitly used for undersampling.\n",
    "X_train, X_test, y_train, y_test = train_test_split(new_data, y, test_size=0.2, random_state=42)\n",
    "\n",
    "X_train = X_train.values\n",
    "X_test = X_test.values\n",
    "y_train = y_train.values\n",
    "y_test = y_test.values\n",
    "\n",
    "model = SVC()\n",
    "model.fit(X_train, y_train)"
   ]
  },
  {
   "cell_type": "code",
   "execution_count": null,
   "metadata": {},
   "outputs": [],
   "source": [
    "predictions = model.predict(X_test)"
   ]
  },
  {
   "cell_type": "code",
   "execution_count": null,
   "metadata": {},
   "outputs": [],
   "source": [
    "print('Accuracy: ', accuracy_score(y_test, predictions))\n",
    "\n",
    "print(\"Overall Precision:\",precision_score(y_test, predictions))\n",
    "print(\"Overall Recall:\",recall_score(y_test, predictions))\n",
    "\n",
    "# Print the confusion matrix\n",
    "cm = confusion_matrix(y_test, predictions)\n",
    "print (cm)"
   ]
  },
  {
   "cell_type": "markdown",
   "metadata": {},
   "source": [
    "## Decision tree"
   ]
  },
  {
   "cell_type": "code",
   "execution_count": null,
   "metadata": {},
   "outputs": [],
   "source": [
    "from sklearn import tree\n",
    "\n",
    "model_tree = tree.DecisionTreeClassifier()\n",
    "\n",
    "model_tree.fit(X_train, y_train)"
   ]
  },
  {
   "cell_type": "code",
   "execution_count": null,
   "metadata": {},
   "outputs": [],
   "source": [
    "predictions = model_tree.predict(X_test)\n",
    "print('Accuracy: ', accuracy_score(y_test, predictions))\n",
    "\n",
    "print(\"Overall Precision:\",precision_score(y_test, predictions))\n",
    "print(\"Overall Recall:\",recall_score(y_test, predictions))\n",
    "\n",
    "# Print the confusion matrix\n",
    "cm = confusion_matrix(y_test, predictions)\n",
    "print (cm)"
   ]
  },
  {
   "cell_type": "markdown",
   "metadata": {},
   "source": [
    "## Random forest"
   ]
  },
  {
   "cell_type": "code",
   "execution_count": null,
   "metadata": {},
   "outputs": [],
   "source": [
    "from sklearn.ensemble import RandomForestClassifier\n",
    "model_randomforest = RandomForestClassifier(n_estimators=100)\n",
    "model_randomforest.fit(X_train, y_train)\n",
    "\n",
    "predictions = model_randomforest.predict(X_test)\n",
    "\n",
    "print('Accuracy: ', accuracy_score(y_test, predictions))\n",
    "\n",
    "print(\"Overall Precision:\",precision_score(y_test, predictions))\n",
    "print(\"Overall Recall:\",recall_score(y_test, predictions))\n",
    "\n",
    "# Print the confusion matrix\n",
    "cm = confusion_matrix(y_test, predictions)\n",
    "print (cm)"
   ]
  },
  {
   "cell_type": "markdown",
   "metadata": {},
   "source": [
    "## Adaboost Classifier"
   ]
  },
  {
   "cell_type": "code",
   "execution_count": null,
   "metadata": {},
   "outputs": [],
   "source": [
    "from sklearn.ensemble import AdaBoostClassifier\n",
    "model_ada = AdaBoostClassifier(n_estimators=100)\n",
    "model_ada.fit(X_train, y_train)\n",
    "\n",
    "predictions = model_ada.predict(X_test)\n",
    "\n",
    "print('Accuracy: ', accuracy_score(y_test, predictions))\n",
    "\n",
    "print(\"Overall Precision:\",precision_score(y_test, predictions))\n",
    "print(\"Overall Recall:\",recall_score(y_test, predictions))\n",
    "\n",
    "# Print the confusion matrix\n",
    "cm = confusion_matrix(y_test, predictions)\n",
    "print (cm)"
   ]
  },
  {
   "cell_type": "markdown",
   "metadata": {},
   "source": [
    "## Neural network"
   ]
  },
  {
   "cell_type": "code",
   "execution_count": null,
   "metadata": {},
   "outputs": [],
   "source": [
    "from sklearn.neural_network import MLPClassifier\n",
    "model_rn = MLPClassifier(solver='lbfgs', alpha=1e-5, hidden_layer_sizes=(5, 2), random_state=1)\n",
    "model_rn.fit(X_train, y_train)\n",
    "predictions = model_rn.predict(X_test)\n",
    "\n",
    "print('Accuracy: ', accuracy_score(y_test, predictions))\n",
    "\n",
    "print(\"Overall Precision:\",precision_score(y_test, predictions))\n",
    "print(\"Overall Recall:\",recall_score(y_test, predictions))\n",
    "\n",
    "# Print the confusion matrix\n",
    "cm = confusion_matrix(y_test, predictions)\n",
    "print (cm)"
   ]
  },
  {
   "cell_type": "code",
   "execution_count": null,
   "metadata": {},
   "outputs": [],
   "source": []
  }
 ],
 "metadata": {
  "kernelspec": {
   "display_name": "Python 3",
   "language": "python",
   "name": "python3"
  },
  "language_info": {
   "codemirror_mode": {
    "name": "ipython",
    "version": 3
   },
   "file_extension": ".py",
   "mimetype": "text/x-python",
   "name": "python",
   "nbconvert_exporter": "python",
   "pygments_lexer": "ipython3",
   "version": "3.8.5"
  },
  "toc": {
   "base_numbering": 1,
   "nav_menu": {},
   "number_sections": true,
   "sideBar": true,
   "skip_h1_title": false,
   "title_cell": "Table of Contents",
   "title_sidebar": "Contents",
   "toc_cell": false,
   "toc_position": {},
   "toc_section_display": true,
   "toc_window_display": false
  }
 },
 "nbformat": 4,
 "nbformat_minor": 2
}
